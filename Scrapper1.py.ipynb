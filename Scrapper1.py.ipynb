{
 "cells": [
  {
   "cell_type": "code",
   "execution_count": 167,
   "metadata": {},
   "outputs": [],
   "source": [
    "import requests\n",
    "import time\n",
    "from bs4 import BeautifulSoup\n",
    "pd.set_option('display.max_colwidth', -1)"
   ]
  },
  {
   "cell_type": "code",
   "execution_count": 14,
   "metadata": {},
   "outputs": [
    {
     "name": "stdout",
     "output_type": "stream",
     "text": [
      "<html>\n",
      "<head>\n",
      "<title>Too Many Requests</title>\n",
      "</head>\n",
      "<body>\n",
      "<h1>Too Many Requests</h1>\n",
      "</body>\n",
      "</html>\n",
      "\n"
     ]
    }
   ],
   "source": [
    "def link_scan(link_url):\n",
    "    c = 1\n",
    "    source_code=requests.get(link_url)\n",
    "    plain_text=source_code.text\n",
    "    soup = BeautifulSoup(plain_text)\n",
    "    print(soup)\n",
    "    for link in soup.find_all('div',{'class':'brandmenu-v2 light l-box clearfix'}):\n",
    "        for li in link.find_all('li'):\n",
    "            for anc in li.find_all('a'):\n",
    "                anc_src = r'http://www.gsmarena.com/' + anc.get('href')\n",
    "                anc_name = anc.string\n",
    "                print(c, anc_name,\"\\n\", anc_src, \"\\n\")\n",
    "                c += 1\n",
    "                inside_scan(anc_name, anc_src)\n",
    "\n",
    "\n",
    "def inside_scan(name, hrefs):\n",
    "    i = 1\n",
    "    source_code=requests.get(hrefs)\n",
    "    plain_text=source_code.text\n",
    "    soup = BeautifulSoup(plain_text)\n",
    "    for link in soup.find_all('div',{'class':'makers'}):\n",
    "        for li in link.find_all('li'):\n",
    "            print(li)\n",
    "            for anc in li.find_all('a'):\n",
    "                anc_src = r'http://www.gsmarena.com/' + anc.get('href')\n",
    "                for nam in (sp.find('span') for sp in anc.find_all('strong')):\n",
    "                    modal_name = nam.string\n",
    "                    print(\"\\t\", i, \"\\t\", anc_src, name, modal_name)\n",
    "                    time.sleep(100)\n",
    "                    i += 1\n",
    "\n",
    "link_scan(r'http://www.gsmarena.com')"
   ]
  },
  {
   "cell_type": "code",
   "execution_count": 18,
   "metadata": {},
   "outputs": [],
   "source": [
    "c = 1\n",
    "source_code=requests.get('https://www.phonescoop.com/phones/index_all.php')\n",
    "plain_text=source_code.text\n",
    "soup = BeautifulSoup(plain_text)\n"
   ]
  },
  {
   "cell_type": "code",
   "execution_count": 224,
   "metadata": {},
   "outputs": [],
   "source": [
    "def get_data(d_lcl,link_lcl):\n",
    "    soup_lcl = BeautifulSoup(requests.get(link_lcl).text)\n",
    "    tbl=[]\n",
    "    for link in soup_lcl.find_all('table',{'class':re.compile('hgrid')}):\n",
    "        tbl.append(link)\n",
    "    #print(tbl)\n",
    "    df_device = pd.DataFrame()\n",
    "    for sub_tbl in tbl:\n",
    "        sample_df_tmp = pd.read_html(str(tbl[0]))[0]\n",
    "        df_device = pd.concat([df_device,sample_df_tmp])\n",
    "    df_device.rename(columns={df_device.columns[0]: \"Feats\"\n",
    "                          ,df_device.columns[1]: \"Value\"}, inplace = True)\n",
    "    #df_device.reset_index(drop=True)\n",
    "    #df_device[df_device['Feats']=='Display']['Value'].drop_duplicates()\n",
    "    return df_device"
   ]
  },
  {
   "cell_type": "code",
   "execution_count": null,
   "metadata": {
    "scrolled": true
   },
   "outputs": [
    {
     "name": "stdout",
     "output_type": "stream",
     "text": [
      "working on  iPhone\n"
     ]
    },
    {
     "name": "stderr",
     "output_type": "stream",
     "text": [
      "/Users/awaiskaleem/anaconda3/lib/python3.7/site-packages/ipykernel_launcher.py:21: FutureWarning: Sorting because non-concatenation axis is not aligned. A future version\n",
      "of pandas will change to not sort by default.\n",
      "\n",
      "To accept the future behavior, pass 'sort=False'.\n",
      "\n",
      "To retain the current behavior and silence the warning, pass 'sort=True'.\n",
      "\n"
     ]
    },
    {
     "name": "stdout",
     "output_type": "stream",
     "text": [
      "working on  iPhone 11\n",
      "working on  iPhone 11 Pro\n",
      "working on  iPhone 11 Pro Max\n",
      "working on  iPhone 3G\n",
      "working on  iPhone 3GS\n",
      "working on  iPhone 4 (CDMA)\n",
      "working on  iPhone 4 (GSM)\n",
      "working on  iPhone 4S\n",
      "working on  iPhone 5 (Americas GSM)\n",
      "working on  iPhone 5 (CDMA / global)\n",
      "working on  iPhone 5c\n",
      "working on  iPhone 5s\n",
      "working on  iPhone 6\n",
      "working on  iPhone 6 Plus\n",
      "working on  iPhone 6s\n",
      "working on  iPhone 6s Plus\n",
      "working on  iPhone 7\n",
      "working on  iPhone 7 Plus\n",
      "working on  iPhone 8\n",
      "working on  iPhone 8 Plus\n",
      "working on  iPhone SE\n",
      "working on  iPhone X\n",
      "working on  iPhone Xr\n",
      "working on  iPhone Xs\n",
      "working on  iPhone Xs Max\n",
      "working on  Captivate (Galaxy S)\n",
      "working on  Continuum (Galaxy S)\n"
     ]
    }
   ],
   "source": [
    "mob_list=['iPhone','Galaxy ']\n",
    "sel_cols1 = ['Display','Battery','Processor','Storage','Camera','Weight','Dimensions','Data Technology']\n",
    "sel_cols = ['Phone','Web_Link','Display','Battery','Processor','Storage','Camera','Weight','Dimensions','Data Technology']\n",
    "#df_main_bkp = df_main.copy()\n",
    "df_main = pd.DataFrame(columns=sel_cols)\n",
    "\n",
    "for anc in soup.find_all(\"a\", href=re.compile(\"phone.php\")):\n",
    "    mystr=[]\n",
    "    for x in anc:\n",
    "        mystr.append(str(x))\n",
    "    for d in mystr:\n",
    "        for dd in mob_list:\n",
    "            if dd in d:\n",
    "                print('working on ',d)\n",
    "                anc_src = r'https://www.phonescoop.com/phones/' + anc.get('href')\n",
    "                df_result = get_data(d,anc_src)\n",
    "                df_result1 = df_result.set_index('Feats').drop_duplicates().T[sel_cols1]\n",
    "                df_result1.insert(1, 'Phone', d)\n",
    "                df_result1.insert(2, 'Web_Link', anc_src)\n",
    "\n",
    "                df_main = pd.concat([df_result1,df_main])\n",
    "                df_main[sel_cols].reset_index(drop=True).to_csv('results.csv', sep=',', index=False)"
   ]
  },
  {
   "cell_type": "code",
   "execution_count": null,
   "metadata": {},
   "outputs": [],
   "source": []
  }
 ],
 "metadata": {
  "kernelspec": {
   "display_name": "Python 3",
   "language": "python",
   "name": "python3"
  },
  "language_info": {
   "codemirror_mode": {
    "name": "ipython",
    "version": 3
   },
   "file_extension": ".py",
   "mimetype": "text/x-python",
   "name": "python",
   "nbconvert_exporter": "python",
   "pygments_lexer": "ipython3",
   "version": "3.7.3"
  }
 },
 "nbformat": 4,
 "nbformat_minor": 2
}
